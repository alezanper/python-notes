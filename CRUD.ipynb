{
 "cells": [
  {
   "cell_type": "markdown",
   "id": "a5055076",
   "metadata": {},
   "source": [
    "# SQLalchemy"
   ]
  },
  {
   "cell_type": "code",
   "execution_count": 1,
   "id": "d56e5ba3",
   "metadata": {},
   "outputs": [],
   "source": [
    "import sqlalchemy as db\n",
    "import pandas as pd\n",
    "\n",
    "user = 'root'\n",
    "password = 'password'\n",
    "server = 'localhost'\n",
    "port = '3306'\n",
    "database = 'test'\n",
    "\n",
    "string_connection = 'mysql+pymysql://'+user+':'+password+'@'+server+':'+port+'/'+database\n",
    "\n",
    "engine = db.create_engine(string_connection)\n",
    "connection = engine.connect()\n",
    "metadata = db.MetaData()"
   ]
  },
  {
   "cell_type": "markdown",
   "id": "6a141d4a",
   "metadata": {},
   "source": [
    "# Create\n",
    "## Creating a Table"
   ]
  },
  {
   "cell_type": "code",
   "execution_count": 2,
   "id": "7b43e7af",
   "metadata": {},
   "outputs": [],
   "source": [
    "table_name = 'EMPLOYEES'\n",
    "\n",
    "employees = db.Table(table_name, metadata,\n",
    "              db.Column('Id', db.Integer(), primary_key=True),\n",
    "              db.Column('name', db.String(50), nullable=False),\n",
    "              db.Column('lastname', db.String(50)),\n",
    "              db.Column('salary', db.Float(), default=100.0),\n",
    "              db.Column('active', db.Boolean(), default=True)\n",
    "              )\n",
    "\n",
    "metadata.create_all(engine) "
   ]
  },
  {
   "cell_type": "markdown",
   "id": "9cc59573",
   "metadata": {},
   "source": [
    "## Inserting into database"
   ]
  },
  {
   "cell_type": "code",
   "execution_count": 3,
   "id": "cb97e53a",
   "metadata": {},
   "outputs": [],
   "source": [
    "#Inserting one record\n",
    "\n",
    "query = db.insert(employees).values(Id=1, name='Alexander', lastname='Benavides', salary=60000.00, active=True) \n",
    "ResultProxy = connection.execute(query)"
   ]
  },
  {
   "cell_type": "code",
   "execution_count": 4,
   "id": "049d3301",
   "metadata": {},
   "outputs": [],
   "source": [
    "#Inserting Several records\n",
    "\n",
    "emp1 = {'Id':'2',\n",
    "        'name':'Juana', \n",
    "        'lastname':'lacubana', \n",
    "        'salary':35000, \n",
    "        'active':True\n",
    "       }\n",
    "\n",
    "emp2 = {'Id':'3', \n",
    "        'name':'Pedro', \n",
    "        'lastname':'Espitia', \n",
    "        'salary':40000, \n",
    "        'active':False\n",
    "       }\n",
    "\n",
    "query = db.insert(employees)\n",
    "\n",
    "values_list = [emp1, emp2]\n",
    "ResultProxy = connection.execute(query,values_list)"
   ]
  },
  {
   "cell_type": "markdown",
   "id": "1b4a19db",
   "metadata": {},
   "source": [
    "# Read"
   ]
  },
  {
   "cell_type": "code",
   "execution_count": 5,
   "id": "603bfb17",
   "metadata": {},
   "outputs": [
    {
     "data": {
      "text/html": [
       "<div>\n",
       "<style scoped>\n",
       "    .dataframe tbody tr th:only-of-type {\n",
       "        vertical-align: middle;\n",
       "    }\n",
       "\n",
       "    .dataframe tbody tr th {\n",
       "        vertical-align: top;\n",
       "    }\n",
       "\n",
       "    .dataframe thead th {\n",
       "        text-align: right;\n",
       "    }\n",
       "</style>\n",
       "<table border=\"1\" class=\"dataframe\">\n",
       "  <thead>\n",
       "    <tr style=\"text-align: right;\">\n",
       "      <th></th>\n",
       "      <th>Id</th>\n",
       "      <th>name</th>\n",
       "      <th>lastname</th>\n",
       "      <th>salary</th>\n",
       "      <th>active</th>\n",
       "    </tr>\n",
       "  </thead>\n",
       "  <tbody>\n",
       "    <tr>\n",
       "      <th>0</th>\n",
       "      <td>1</td>\n",
       "      <td>Alexander</td>\n",
       "      <td>Benavides</td>\n",
       "      <td>60000.0</td>\n",
       "      <td>True</td>\n",
       "    </tr>\n",
       "    <tr>\n",
       "      <th>1</th>\n",
       "      <td>2</td>\n",
       "      <td>Juana</td>\n",
       "      <td>lacubana</td>\n",
       "      <td>35000.0</td>\n",
       "      <td>True</td>\n",
       "    </tr>\n",
       "    <tr>\n",
       "      <th>2</th>\n",
       "      <td>3</td>\n",
       "      <td>Pedro</td>\n",
       "      <td>Espitia</td>\n",
       "      <td>40000.0</td>\n",
       "      <td>False</td>\n",
       "    </tr>\n",
       "  </tbody>\n",
       "</table>\n",
       "</div>"
      ],
      "text/plain": [
       "   Id       name   lastname   salary  active\n",
       "0   1  Alexander  Benavides  60000.0    True\n",
       "1   2      Juana   lacubana  35000.0    True\n",
       "2   3      Pedro    Espitia  40000.0   False"
      ]
     },
     "execution_count": 5,
     "metadata": {},
     "output_type": "execute_result"
    }
   ],
   "source": [
    "# Retrieve all records\n",
    "results = connection.execute(db.select([employees])).fetchall()\n",
    "\n",
    "# Create a Pandas Dataframe\n",
    "df = pd.DataFrame(results)\n",
    "if (len(results) > 0):\n",
    "    df.columns = results[0].keys()\n",
    "else:\n",
    "    print('Empty Table')\n",
    "df.head(4)\n"
   ]
  },
  {
   "cell_type": "code",
   "execution_count": 6,
   "id": "12d75109",
   "metadata": {},
   "outputs": [
    {
     "data": {
      "text/html": [
       "<div>\n",
       "<style scoped>\n",
       "    .dataframe tbody tr th:only-of-type {\n",
       "        vertical-align: middle;\n",
       "    }\n",
       "\n",
       "    .dataframe tbody tr th {\n",
       "        vertical-align: top;\n",
       "    }\n",
       "\n",
       "    .dataframe thead th {\n",
       "        text-align: right;\n",
       "    }\n",
       "</style>\n",
       "<table border=\"1\" class=\"dataframe\">\n",
       "  <thead>\n",
       "    <tr style=\"text-align: right;\">\n",
       "      <th></th>\n",
       "      <th>Id</th>\n",
       "      <th>name</th>\n",
       "      <th>lastname</th>\n",
       "      <th>salary</th>\n",
       "      <th>active</th>\n",
       "    </tr>\n",
       "  </thead>\n",
       "  <tbody>\n",
       "    <tr>\n",
       "      <th>0</th>\n",
       "      <td>1</td>\n",
       "      <td>Alexander</td>\n",
       "      <td>Benavides</td>\n",
       "      <td>60000.0</td>\n",
       "      <td>1</td>\n",
       "    </tr>\n",
       "  </tbody>\n",
       "</table>\n",
       "</div>"
      ],
      "text/plain": [
       "   Id       name   lastname   salary  active\n",
       "0   1  Alexander  Benavides  60000.0       1"
      ]
     },
     "execution_count": 6,
     "metadata": {},
     "output_type": "execute_result"
    }
   ],
   "source": [
    "# Reading table using SQL language\n",
    "query = \"SELECT * FROM EMPLOYEES E WHERE E.ID = 1\"\n",
    "\n",
    "cursor = connection.execute(query)\n",
    "query_result = pd.read_sql(query,con=engine)\n",
    "query_result"
   ]
  },
  {
   "cell_type": "code",
   "execution_count": 7,
   "id": "96aed7e2",
   "metadata": {},
   "outputs": [
    {
     "name": "stdout",
     "output_type": "stream",
     "text": [
      "(1, 'Alexander', 'Benavides', 60000.0, 1)\n",
      "(2, 'Juana', 'lacubana', 35000.0, 1)\n",
      "(3, 'Pedro', 'Espitia', 40000.0, 0)\n"
     ]
    }
   ],
   "source": [
    "query = \"SELECT * FROM EMPLOYEES\"\n",
    "\n",
    "cursor = connection.execute(query)\n",
    "\n",
    "for row in cursor:\n",
    "    print(row)"
   ]
  },
  {
   "cell_type": "markdown",
   "id": "598a8a04",
   "metadata": {},
   "source": [
    "# Update"
   ]
  },
  {
   "cell_type": "code",
   "execution_count": 8,
   "id": "f566a9ab",
   "metadata": {},
   "outputs": [
    {
     "data": {
      "text/html": [
       "<div>\n",
       "<style scoped>\n",
       "    .dataframe tbody tr th:only-of-type {\n",
       "        vertical-align: middle;\n",
       "    }\n",
       "\n",
       "    .dataframe tbody tr th {\n",
       "        vertical-align: top;\n",
       "    }\n",
       "\n",
       "    .dataframe thead th {\n",
       "        text-align: right;\n",
       "    }\n",
       "</style>\n",
       "<table border=\"1\" class=\"dataframe\">\n",
       "  <thead>\n",
       "    <tr style=\"text-align: right;\">\n",
       "      <th></th>\n",
       "      <th>Id</th>\n",
       "      <th>name</th>\n",
       "      <th>lastname</th>\n",
       "      <th>salary</th>\n",
       "      <th>active</th>\n",
       "    </tr>\n",
       "  </thead>\n",
       "  <tbody>\n",
       "    <tr>\n",
       "      <th>0</th>\n",
       "      <td>1</td>\n",
       "      <td>New Name</td>\n",
       "      <td>Benavides</td>\n",
       "      <td>60000.0</td>\n",
       "      <td>1</td>\n",
       "    </tr>\n",
       "  </tbody>\n",
       "</table>\n",
       "</div>"
      ],
      "text/plain": [
       "   Id      name   lastname   salary  active\n",
       "0   1  New Name  Benavides  60000.0       1"
      ]
     },
     "execution_count": 8,
     "metadata": {},
     "output_type": "execute_result"
    }
   ],
   "source": [
    "query = \"\"\"\n",
    "        UPDATE EMPLOYEES E\n",
    "        SET NAME = 'New Name'\n",
    "        WHERE E.ID = 1\n",
    "        \"\"\"\n",
    "\n",
    "connection.execute(query)\n",
    "\n",
    "query = \"SELECT * FROM EMPLOYEES E WHERE E.ID = 1\"\n",
    "\n",
    "cursor = connection.execute(query)\n",
    "query_result = pd.read_sql(query,con=engine)\n",
    "query_result\n"
   ]
  },
  {
   "cell_type": "markdown",
   "id": "5361da0f",
   "metadata": {},
   "source": [
    "# Delete\n",
    "## Truncate a Table"
   ]
  },
  {
   "cell_type": "code",
   "execution_count": 9,
   "id": "bce7ade0",
   "metadata": {},
   "outputs": [
    {
     "data": {
      "text/plain": [
       "<sqlalchemy.engine.cursor.LegacyCursorResult at 0x2b6a1107bb0>"
      ]
     },
     "execution_count": 9,
     "metadata": {},
     "output_type": "execute_result"
    }
   ],
   "source": [
    "connection.execute(\"TRUNCATE TABLE EMPLOYEES\")"
   ]
  },
  {
   "cell_type": "code",
   "execution_count": null,
   "id": "2c9224ff",
   "metadata": {},
   "outputs": [],
   "source": []
  },
  {
   "cell_type": "code",
   "execution_count": null,
   "id": "6d800883",
   "metadata": {},
   "outputs": [],
   "source": []
  }
 ],
 "metadata": {
  "kernelspec": {
   "display_name": "Python 3 (ipykernel)",
   "language": "python",
   "name": "python3"
  },
  "language_info": {
   "codemirror_mode": {
    "name": "ipython",
    "version": 3
   },
   "file_extension": ".py",
   "mimetype": "text/x-python",
   "name": "python",
   "nbconvert_exporter": "python",
   "pygments_lexer": "ipython3",
   "version": "3.10.4"
  }
 },
 "nbformat": 4,
 "nbformat_minor": 5
}
