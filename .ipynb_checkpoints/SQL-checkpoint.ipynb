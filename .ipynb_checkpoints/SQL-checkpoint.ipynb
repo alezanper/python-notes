{
 "cells": [
  {
   "cell_type": "code",
   "execution_count": 22,
   "id": "3f669913",
   "metadata": {},
   "outputs": [],
   "source": [
    "import sqlalchemy as db\n",
    "import pandas as pd\n",
    "\n",
    "user = 'root'\n",
    "password = 'password'\n",
    "server = 'localhost'\n",
    "port = '3306'\n",
    "database = 'test'\n",
    "\n",
    "string_connection = 'mysql+pymysql://'+user+':'+password+'@'+server+':'+port+'/'+database\n",
    "\n",
    "engine = db.create_engine(string_connection)\n",
    "connection = engine.connect()\n",
    "metadata = db.MetaData()"
   ]
  },
  {
   "cell_type": "markdown",
   "id": "6a141d4a",
   "metadata": {},
   "source": [
    "## Creating a Table"
   ]
  },
  {
   "cell_type": "code",
   "execution_count": 26,
   "id": "7b43e7af",
   "metadata": {},
   "outputs": [],
   "source": [
    "employees = db.Table('employee', metadata,\n",
    "              db.Column('Id', db.Integer()),\n",
    "              db.Column('name', db.String(50), nullable=False),\n",
    "              db.Column('lastname', db.String(50)),\n",
    "              db.Column('salary', db.Float(), default=100.0),\n",
    "              db.Column('active', db.Boolean(), default=True)\n",
    "              )\n",
    "\n",
    "metadata.create_all(engine) \n"
   ]
  },
  {
   "cell_type": "markdown",
   "id": "9cc59573",
   "metadata": {},
   "source": [
    "## Inserting into database"
   ]
  },
  {
   "cell_type": "code",
   "execution_count": 27,
   "id": "cb97e53a",
   "metadata": {},
   "outputs": [],
   "source": [
    "#Inserting record one by one\n",
    "query = db.insert(employees).values(Id=1, name='Alexander', lastname='Benavides', salary=60000.00, active=True) \n",
    "ResultProxy = connection.execute(query)"
   ]
  },
  {
   "cell_type": "code",
   "execution_count": 32,
   "id": "049d3301",
   "metadata": {},
   "outputs": [],
   "source": [
    "#Inserting Several records\n",
    "query = db.insert(employees) \n",
    "values_list = [{'Id':'2', 'name':'Juana', 'lastname':'lacubana', 'salary':35000, 'active':True},\n",
    "               {'Id':'3', 'name':'Pedro', 'lastname':'Espitia', 'salary':40000, 'active':False}]\n",
    "ResultProxy = connection.execute(query,values_list)"
   ]
  },
  {
   "cell_type": "code",
   "execution_count": 33,
   "id": "603bfb17",
   "metadata": {},
   "outputs": [
    {
     "name": "stdout",
     "output_type": "stream",
     "text": [
      "   Id       name   lastname   salary  active\n",
      "0   1  Alexander  Benavides  60000.0    True\n",
      "1   2      Juana   lacubana  35000.0    True\n",
      "2   3      Pedro    Espitia  40000.0   False\n"
     ]
    }
   ],
   "source": [
    "results = connection.execute(db.select([employees])).fetchall()\n",
    "df = pd.DataFrame(results)\n",
    "df.columns = results[0].keys()\n",
    "print(df.head(4))\n"
   ]
  },
  {
   "cell_type": "code",
   "execution_count": null,
   "id": "bce7ade0",
   "metadata": {},
   "outputs": [],
   "source": []
  }
 ],
 "metadata": {
  "kernelspec": {
   "display_name": "Python 3 (ipykernel)",
   "language": "python",
   "name": "python3"
  },
  "language_info": {
   "codemirror_mode": {
    "name": "ipython",
    "version": 3
   },
   "file_extension": ".py",
   "mimetype": "text/x-python",
   "name": "python",
   "nbconvert_exporter": "python",
   "pygments_lexer": "ipython3",
   "version": "3.10.4"
  }
 },
 "nbformat": 4,
 "nbformat_minor": 5
}
